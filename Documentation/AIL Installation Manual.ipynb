{
 "cells": [
  {
   "cell_type": "markdown",
   "id": "79c08920-c183-499d-91eb-c653b8e54574",
   "metadata": {
    "tags": []
   },
   "source": [
    "##  AIL Installation Manual"
   ]
  },
  {
   "cell_type": "markdown",
   "id": "bb40d998-6d06-49d0-8c61-b08a68eb099d",
   "metadata": {},
   "source": [
    "This manual provides step-by-step instructions for installing the AIL (Analysis Information Leak) framework, a comprehensive tool designed for the analysis of information leaks across the web. The following guide is tailored for Debian and Ubuntu-based distributions."
   ]
  },
  {
   "cell_type": "markdown",
   "id": "eb8091f0-6b3b-49e2-812f-c85e22c4c5e1",
   "metadata": {},
   "source": [
    "### Disclaimer"
   ]
  },
  {
   "cell_type": "markdown",
   "id": "a3e1a184-b76a-4fff-b5a2-0ed572a7478a",
   "metadata": {},
   "source": [
    "This installation manual has been prepared following official Git Repo for AIL "
   ]
  },
  {
   "cell_type": "markdown",
   "id": "c0cbc603-fc10-4263-9961-a69d81c4961f",
   "metadata": {
    "tags": []
   },
   "source": [
    "### Prerequisites"
   ]
  },
  {
   "cell_type": "markdown",
   "id": "d429a1fb-5bf7-4860-ba7a-3a3894cc2ec1",
   "metadata": {},
   "source": [
    "* **Hardware/Virtual Environment**: for this setup a virtual box with 2GB of RAM, 2 CPU cores and 20GB of storage was used.\n",
    "* **Operating System**: Debian or Ubuntu-based distributions.\n",
    "* **Python Version**: Ensure Python 3.7 or higher is installed on your system."
   ]
  },
  {
   "cell_type": "markdown",
   "id": "44c354e3-3f96-4ef6-982a-648c594a6e55",
   "metadata": {},
   "source": [
    "### Installation Steps"
   ]
  },
  {
   "cell_type": "markdown",
   "id": "7be55ae6-9912-4a2f-9f8d-3ba043bdd573",
   "metadata": {},
   "source": [
    "**1. Clone the AIL Framework Repository** "
   ]
  },
  {
   "cell_type": "markdown",
   "id": "4c2da637-55d4-4e09-a2f3-6a4954d2854d",
   "metadata": {},
   "source": [
    "First, clone the AIL framework repository from GitHub to your local machine. Open a terminal and execute the following commands:"
   ]
  },
  {
   "cell_type": "raw",
   "id": "1a3309c9-de1d-4cb2-b89e-04ae64452bd5",
   "metadata": {
    "tags": []
   },
   "source": [
    "$ git clone https://github.com/ail-project/ail-framework.git\n",
    "$ cd ail-framework"
   ]
  },
  {
   "cell_type": "markdown",
   "id": "48d23625-89d0-43b0-bff6-1be837c3df13",
   "metadata": {},
   "source": [
    "**2. Install Dependencies**"
   ]
  },
  {
   "cell_type": "markdown",
   "id": "c266d04e-a2bb-46db-90ae-4ccedb4a428c",
   "metadata": {},
   "source": [
    "The installing_deps.sh script will install all necessary dependencies for running the AIL framework. Run the following command in the terminal:"
   ]
  },
  {
   "cell_type": "raw",
   "id": "c685dfb2-f904-472d-b8cc-6883f6c894da",
   "metadata": {},
   "source": [
    "$ ./installing_deps.sh"
   ]
  },
  {
   "cell_type": "markdown",
   "id": "6263011a-3f8e-45f4-a644-f3236d70b392",
   "metadata": {},
   "source": [
    "*Note: The **installing_deps.sh** script is configured for Debian and Ubuntu-based distributions.*"
   ]
  },
  {
   "cell_type": "markdown",
   "id": "9b976570-70fe-4230-a734-3cfff339cf69",
   "metadata": {},
   "source": [
    "**3. Start the AIL Framework**"
   ]
  },
  {
   "cell_type": "markdown",
   "id": "8d4479a0-15aa-4e51-bf15-db9d40fb53ce",
   "metadata": {},
   "source": [
    "After installing the dependencies, navigate to the bin directory and launch the AIL framework using the provided script:"
   ]
  },
  {
   "cell_type": "raw",
   "id": "7c2294d6-1a03-4da9-9533-a65e0085cb81",
   "metadata": {},
   "source": [
    "$ cd ~/ail-framework/\n",
    "$ cd bin/\n",
    "$ ./LAUNCH.sh -l"
   ]
  },
  {
   "cell_type": "markdown",
   "id": "ea106312-06a0-44a0-b59a-72df772a05f7",
   "metadata": {},
   "source": [
    "This will start all necessary components of the AIL framework and enable you to begin analyzing information leaks."
   ]
  },
  {
   "cell_type": "markdown",
   "id": "32183a90-02e7-4bdf-beb8-8829a86ff36e",
   "metadata": {},
   "source": [
    "**4. Accessing the AIL Web Interface**"
   ]
  },
  {
   "cell_type": "markdown",
   "id": "b1e8f184-4e4c-4ee9-9d40-af9d50dbd943",
   "metadata": {},
   "source": [
    "Once the AIL framework is running, you can access the web interface through your browser at:"
   ]
  },
  {
   "cell_type": "raw",
   "id": "7bc79397-8638-4484-b25b-273aa24e9275",
   "metadata": {},
   "source": [
    "https://localhost:7000/"
   ]
  },
  {
   "cell_type": "markdown",
   "id": "f15ee7ff-f7c5-4a3d-8b98-3d643b0ed120",
   "metadata": {},
   "source": [
    "The default login credentials are available in the **DEFAULT_PASSWORD** file located in the AIL framework directory. It is highly recommended to ***change your password*** upon first login. The DEFAULT_PASSWORD file is automatically deleted after the password change for security purposes."
   ]
  },
  {
   "cell_type": "markdown",
   "id": "7291b9b6-a655-4162-bd86-9a1fdb496a35",
   "metadata": {},
   "source": [
    "## Conclusion"
   ]
  },
  {
   "cell_type": "markdown",
   "id": "9952bf24-c38d-49be-922d-91a611bdb03e",
   "metadata": {},
   "source": [
    "Following these steps will successfully install and start the AIL framework on Debian or Ubuntu-based systems, allowing for comprehensive analysis and monitoring of information leaks. For any additional configuration or usage guidelines, consult the official AIL framework documentation https://github.com/ail-project/ail-framework."
   ]
  }
 ],
 "metadata": {
  "kernelspec": {
   "display_name": "Python 3 (ipykernel)",
   "language": "python",
   "name": "python3"
  },
  "language_info": {
   "codemirror_mode": {
    "name": "ipython",
    "version": 3
   },
   "file_extension": ".py",
   "mimetype": "text/x-python",
   "name": "python",
   "nbconvert_exporter": "python",
   "pygments_lexer": "ipython3",
   "version": "3.9.16"
  }
 },
 "nbformat": 4,
 "nbformat_minor": 5
}
